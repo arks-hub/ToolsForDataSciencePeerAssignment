{
 "cells": [
  {
   "cell_type": "markdown",
   "id": "a387d48d-8cf9-46b5-96cb-05a9ecebeca6",
   "metadata": {},
   "source": [
    "# Data Science Tools and Ecosystem"
   ]
  },
  {
   "cell_type": "markdown",
   "id": "7f3329ac-fb2d-43df-8c86-90a87454726f",
   "metadata": {},
   "source": [
    "In this notebook, Data Science Tools and Ecosystem are summarized."
   ]
  },
  {
   "cell_type": "markdown",
   "id": "5ba0a7a4-f568-44f3-be81-376d48e21b34",
   "metadata": {},
   "source": [
    "**Objectives**:\n",
    "- List popular languages used in data science\n",
    "- List commonly used libraries in data science\n",
    "- List data science tools\n",
    "- Demonstrate basic arithmetic with integers (by example)\n",
    "- Demonstrate how to convert minutes to hours (by example)"
   ]
  },
  {
   "cell_type": "markdown",
   "id": "89299cfc-30ac-43c8-9923-ce4f4ecb453b",
   "metadata": {},
   "source": [
    "Some of the popular languages that Data Scientists use are:\n",
    "\n",
    "1.  Python\n",
    "2.  R\n",
    "3.  SQL"
   ]
  },
  {
   "cell_type": "markdown",
   "id": "91bb0f06-6e82-4b66-8215-856984ac1c4f",
   "metadata": {},
   "source": [
    "Some of the commonly used libraries used by Data Scientists include:\n",
    "\n",
    "1. NumPy\n",
    "2. Matloblib\n",
    "3. Pandas"
   ]
  },
  {
   "cell_type": "markdown",
   "id": "906ec97d-6b18-431d-a317-17ce7d1bad25",
   "metadata": {},
   "source": [
    "|Data Science Tools|\n",
    "|------------------|\n",
    "|Jupyter Notebook|\n",
    "|Apache Zeppelin|\n",
    "|RStudio|"
   ]
  },
  {
   "cell_type": "markdown",
   "id": "4623b197-6772-4ed0-9382-40b6c799296c",
   "metadata": {},
   "source": [
    "### Below are a few examples of evaluating arithmetic expressions in Python"
   ]
  },
  {
   "cell_type": "code",
   "execution_count": 1,
   "id": "053e7560-2cd4-44ee-8e9a-f8ae934c4070",
   "metadata": {
    "tags": []
   },
   "outputs": [
    {
     "data": {
      "text/plain": [
       "17"
      ]
     },
     "execution_count": 1,
     "metadata": {},
     "output_type": "execute_result"
    }
   ],
   "source": [
    "# This a simple arithmetic expression to mutiply then add integers\n",
    "(3*4)+5"
   ]
  },
  {
   "cell_type": "code",
   "execution_count": 2,
   "id": "4ebbaf7d-314c-4bbe-917c-e35371101bcd",
   "metadata": {
    "tags": []
   },
   "outputs": [
    {
     "data": {
      "text/plain": [
       "3.3333333333333335"
      ]
     },
     "execution_count": 2,
     "metadata": {},
     "output_type": "execute_result"
    }
   ],
   "source": [
    "# This will convert 200 minutes to hours by diving by 60\n",
    "200/60"
   ]
  },
  {
   "cell_type": "markdown",
   "id": "1c01b15c-648c-4e34-af68-96ca80684c56",
   "metadata": {},
   "source": [
    "## Author"
   ]
  },
  {
   "cell_type": "markdown",
   "id": "258f7250-4cdf-4c4f-9425-baa8a1e8f344",
   "metadata": {},
   "source": [
    "A. Ryan Kutayiah"
   ]
  },
  {
   "cell_type": "code",
   "execution_count": null,
   "id": "e40a5e36-8112-4d4e-b055-d716b565915c",
   "metadata": {},
   "outputs": [],
   "source": []
  }
 ],
 "metadata": {
  "kernelspec": {
   "display_name": "Python",
   "language": "python",
   "name": "conda-env-python-py"
  },
  "language_info": {
   "codemirror_mode": {
    "name": "ipython",
    "version": 3
   },
   "file_extension": ".py",
   "mimetype": "text/x-python",
   "name": "python",
   "nbconvert_exporter": "python",
   "pygments_lexer": "ipython3",
   "version": "3.7.12"
  }
 },
 "nbformat": 4,
 "nbformat_minor": 5
}
